{
 "cells": [
  {
   "cell_type": "code",
   "execution_count": 1,
   "metadata": {},
   "outputs": [],
   "source": [
    "from style_transfer import StyleTransfer"
   ]
  },
  {
   "cell_type": "code",
   "execution_count": 2,
   "metadata": {},
   "outputs": [],
   "source": [
    "from style_transfer import srgb_profile"
   ]
  },
  {
   "cell_type": "code",
   "execution_count": 3,
   "metadata": {},
   "outputs": [],
   "source": [
    "import argparse\n",
    "import atexit\n",
    "from dataclasses import asdict\n",
    "import io\n",
    "import json\n",
    "from pathlib import Path\n",
    "import platform\n",
    "import sys\n",
    "import webbrowser\n",
    "\n",
    "import numpy as np\n",
    "from PIL import Image, ImageCms\n",
    "from tifffile import TIFF, TiffWriter\n",
    "import torch\n",
    "import torch.multiprocessing as mp\n",
    "from tqdm import tqdm"
   ]
  },
  {
   "cell_type": "code",
   "execution_count": 4,
   "metadata": {},
   "outputs": [],
   "source": [
    "def print_error(err):\n",
    "    print('\\033[31m{}:\\033[0m {}'.format(type(err).__name__, err), file=sys.stderr)"
   ]
  },
  {
   "cell_type": "code",
   "execution_count": 5,
   "metadata": {},
   "outputs": [],
   "source": [
    "def prof_to_prof(image, src_prof, dst_prof, **kwargs):\n",
    "    src_prof = io.BytesIO(src_prof)\n",
    "    dst_prof = io.BytesIO(dst_prof)\n",
    "    return ImageCms.profileToProfile(image, src_prof, dst_prof, **kwargs)\n",
    "\n",
    "\n",
    "def load_image(path, proof_prof=None):\n",
    "    src_prof = dst_prof = srgb_profile\n",
    "    try:\n",
    "        image = Image.open(path)\n",
    "        if 'icc_profile' in image.info:\n",
    "            src_prof = image.info['icc_profile']\n",
    "        else:\n",
    "            image = image.convert('RGB')\n",
    "        if proof_prof is None:\n",
    "            if src_prof == dst_prof:\n",
    "                return image.convert('RGB')\n",
    "            return prof_to_prof(image, src_prof, dst_prof, outputMode='RGB')\n",
    "        proof_prof = Path(proof_prof).read_bytes()\n",
    "        cmyk = prof_to_prof(image, src_prof, proof_prof, outputMode='CMYK')\n",
    "        return prof_to_prof(cmyk, proof_prof, dst_prof, outputMode='RGB')\n",
    "    except OSError as err:\n",
    "        print_error(err)\n",
    "        sys.exit(1)\n"
   ]
  },
  {
   "cell_type": "code",
   "execution_count": 20,
   "metadata": {},
   "outputs": [],
   "source": [
    "image1=\"style_transfer\\khalid2.jpeg\"\n",
    "image2=\"style_transfer\\iayoub1.jpeg\""
   ]
  },
  {
   "cell_type": "code",
   "execution_count": 21,
   "metadata": {},
   "outputs": [],
   "source": [
    "content_img = load_image(image1)\n"
   ]
  },
  {
   "cell_type": "code",
   "execution_count": 22,
   "metadata": {},
   "outputs": [],
   "source": [
    "style_imgs = load_image(image2)"
   ]
  },
  {
   "cell_type": "code",
   "execution_count": 31,
   "metadata": {},
   "outputs": [],
   "source": [
    "!python style_transfer/style_transfer.py"
   ]
  },
  {
   "cell_type": "code",
   "execution_count": 35,
   "metadata": {},
   "outputs": [
    {
     "name": "stdout",
     "output_type": "stream",
     "text": [
      "Processing content image (128x122)...\n",
      "Processing style image (119x128)...\n",
      "Processing content image (181x172)...\n",
      "Processing style image (168x181)...\n",
      "Processing content image (256x244)...\n",
      "Processing style image (238x256)...\n"
     ]
    }
   ],
   "source": [
    "try:\n",
    "    StyleTransfer().stylize(content_image=content_img, style_images=[style_imgs])\n",
    "except KeyboardInterrupt:\n",
    "    pass\n"
   ]
  },
  {
   "cell_type": "code",
   "execution_count": null,
   "metadata": {},
   "outputs": [],
   "source": []
  }
 ],
 "metadata": {
  "interpreter": {
   "hash": "b125ea9d0a7bd1cedaa5a9bf223b21581cea03452bf75952addc990f99327585"
  },
  "kernelspec": {
   "display_name": "Python 3.8.8 ('base')",
   "language": "python",
   "name": "python3"
  },
  "language_info": {
   "codemirror_mode": {
    "name": "ipython",
    "version": 3
   },
   "file_extension": ".py",
   "mimetype": "text/x-python",
   "name": "python",
   "nbconvert_exporter": "python",
   "pygments_lexer": "ipython3",
   "version": "3.8.8"
  },
  "orig_nbformat": 4
 },
 "nbformat": 4,
 "nbformat_minor": 2
}
